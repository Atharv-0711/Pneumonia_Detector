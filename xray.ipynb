{
 "cells": [
  {
   "cell_type": "code",
   "execution_count": 5,
   "metadata": {},
   "outputs": [],
   "source": [
    "import os\n",
    "import tensorflow as tf\n",
    "from tensorflow.keras.preprocessing.image import ImageDataGenerator\n",
    "from tensorflow.keras.models import Sequential\n",
    "from tensorflow.keras.layers import Conv2D, MaxPooling2D, Flatten, Dense, Dropout\n",
    "from tensorflow.keras.optimizers import Adam"
   ]
  },
  {
   "cell_type": "code",
   "execution_count": 6,
   "metadata": {},
   "outputs": [],
   "source": [
    "\n",
    "\n",
    "# Set the paths for the dataset\n",
    "train_directory = r'chest_xray\\train'\n",
    "test_directory = r'chest_xray\\test'\n",
    "\n"
   ]
  },
  {
   "cell_type": "code",
   "execution_count": 7,
   "metadata": {},
   "outputs": [
    {
     "name": "stdout",
     "output_type": "stream",
     "text": [
      "Found 5232 images belonging to 2 classes.\n",
      "Found 624 images belonging to 2 classes.\n"
     ]
    },
    {
     "name": "stderr",
     "output_type": "stream",
     "text": [
      "C:\\Users\\HP\\AppData\\Roaming\\Python\\Python311\\site-packages\\keras\\src\\layers\\convolutional\\base_conv.py:107: UserWarning: Do not pass an `input_shape`/`input_dim` argument to a layer. When using Sequential models, prefer using an `Input(shape)` object as the first layer in the model instead.\n",
      "  super().__init__(activity_regularizer=activity_regularizer, **kwargs)\n"
     ]
    }
   ],
   "source": [
    "# Image Data Generator with rescaling and basic augmentation\n",
    "training_data_generator = ImageDataGenerator(\n",
    "    rescale=1./255,  # Normalize pixel values\n",
    "    shear_range=0.2,  # Random shear\n",
    "    zoom_range=0.2,   # Random zoom\n",
    "    horizontal_flip=True,  # Random horizontal flip\n",
    ")\n",
    "\n",
    "test_data_generator = ImageDataGenerator(rescale=1./255)\n",
    "\n",
    "# Create the training and validation generators\n",
    "train_generator = training_data_generator.flow_from_directory(\n",
    "    train_directory,\n",
    "    target_size=(150, 150),  # Resize images\n",
    "    batch_size=32,           # Batch size\n",
    "    class_mode='binary'      # Binary classification: normal vs pneumonia\n",
    ")\n",
    "\n",
    "test_generator = test_data_generator.flow_from_directory(\n",
    "    test_directory,\n",
    "    target_size=(150, 150),  # Resize images\n",
    "    batch_size=32,\n",
    "    class_mode='binary'\n",
    ")\n",
    "\n",
    "# Build the CNN pneumonia_detector_model\n",
    "pneumonia_detector_model = Sequential()\n",
    "\n",
    "# 1st Convolutional Layer\n",
    "pneumonia_detector_model.add(Conv2D(32, (3, 3), input_shape=(150, 150, 3), activation='relu'))\n",
    "pneumonia_detector_model.add(MaxPooling2D(pool_size=(2, 2)))\n",
    "\n",
    "# 2nd Convolutional Layer\n",
    "pneumonia_detector_model.add(Conv2D(64, (3, 3), activation='relu'))\n",
    "pneumonia_detector_model.add(MaxPooling2D(pool_size=(2, 2)))\n",
    "\n",
    "# 3rd Convolutional Layer\n",
    "pneumonia_detector_model.add(Conv2D(128, (3, 3), activation='relu'))\n",
    "pneumonia_detector_model.add(MaxPooling2D(pool_size=(2, 2)))\n",
    "\n",
    "# Flatten the output\n",
    "pneumonia_detector_model.add(Flatten())\n",
    "\n",
    "# Fully connected layer\n",
    "pneumonia_detector_model.add(Dense(128, activation='relu'))\n",
    "pneumonia_detector_model.add(Dropout(0.5))  # Dropout for regularization\n",
    "pneumonia_detector_model.add(Dense(1, activation='sigmoid'))  # Binary output: 1 neuron with sigmoid\n",
    "\n",
    "# Compile the pneumonia_detector_model\n",
    "pneumonia_detector_model.compile(optimizer=Adam(learning_rate=0.001),\n",
    "              loss='binary_crossentropy',  # Binary classification\n",
    "              metrics=['accuracy'])\n"
   ]
  },
  {
   "cell_type": "code",
   "execution_count": 8,
   "metadata": {},
   "outputs": [
    {
     "name": "stdout",
     "output_type": "stream",
     "text": [
      "Epoch 1/10\n"
     ]
    },
    {
     "name": "stderr",
     "output_type": "stream",
     "text": [
      "C:\\Users\\HP\\AppData\\Roaming\\Python\\Python311\\site-packages\\keras\\src\\trainers\\data_adapters\\py_dataset_adapter.py:122: UserWarning: Your `PyDataset` class should call `super().__init__(**kwargs)` in its constructor. `**kwargs` can include `workers`, `use_multiprocessing`, `max_queue_size`. Do not pass these arguments to `fit()`, as they will be ignored.\n",
      "  self._warn_if_super_not_called()\n"
     ]
    },
    {
     "name": "stdout",
     "output_type": "stream",
     "text": [
      "\u001b[1m163/163\u001b[0m \u001b[32m━━━━━━━━━━━━━━━━━━━━\u001b[0m\u001b[37m\u001b[0m \u001b[1m116s\u001b[0m 661ms/step - accuracy: 0.7146 - loss: 0.6520 - val_accuracy: 0.8273 - val_loss: 0.4553\n",
      "Epoch 2/10\n",
      "\u001b[1m163/163\u001b[0m \u001b[32m━━━━━━━━━━━━━━━━━━━━\u001b[0m\u001b[37m\u001b[0m \u001b[1m0s\u001b[0m 461us/step - accuracy: 0.7812 - loss: 0.6228 - val_accuracy: 0.8125 - val_loss: 1.0946\n",
      "Epoch 3/10\n"
     ]
    },
    {
     "name": "stderr",
     "output_type": "stream",
     "text": [
      "c:\\Program Files\\Python311\\Lib\\contextlib.py:155: UserWarning: Your input ran out of data; interrupting training. Make sure that your dataset or generator can generate at least `steps_per_epoch * epochs` batches. You may need to use the `.repeat()` function when building your dataset.\n",
      "  self.gen.throw(typ, value, traceback)\n"
     ]
    },
    {
     "name": "stdout",
     "output_type": "stream",
     "text": [
      "\u001b[1m163/163\u001b[0m \u001b[32m━━━━━━━━━━━━━━━━━━━━\u001b[0m\u001b[37m\u001b[0m \u001b[1m110s\u001b[0m 643ms/step - accuracy: 0.8793 - loss: 0.3001 - val_accuracy: 0.8405 - val_loss: 0.4228\n",
      "Epoch 4/10\n",
      "\u001b[1m163/163\u001b[0m \u001b[32m━━━━━━━━━━━━━━━━━━━━\u001b[0m\u001b[37m\u001b[0m \u001b[1m0s\u001b[0m 1ms/step - accuracy: 0.9062 - loss: 0.2319 - val_accuracy: 0.6250 - val_loss: 1.2388\n",
      "Epoch 5/10\n",
      "\u001b[1m163/163\u001b[0m \u001b[32m━━━━━━━━━━━━━━━━━━━━\u001b[0m\u001b[37m\u001b[0m \u001b[1m105s\u001b[0m 627ms/step - accuracy: 0.8979 - loss: 0.2545 - val_accuracy: 0.8586 - val_loss: 0.3348\n",
      "Epoch 6/10\n",
      "\u001b[1m163/163\u001b[0m \u001b[32m━━━━━━━━━━━━━━━━━━━━\u001b[0m\u001b[37m\u001b[0m \u001b[1m0s\u001b[0m 514us/step - accuracy: 0.9062 - loss: 0.2825 - val_accuracy: 0.7500 - val_loss: 0.5767\n",
      "Epoch 7/10\n",
      "\u001b[1m163/163\u001b[0m \u001b[32m━━━━━━━━━━━━━━━━━━━━\u001b[0m\u001b[37m\u001b[0m \u001b[1m104s\u001b[0m 617ms/step - accuracy: 0.8989 - loss: 0.2509 - val_accuracy: 0.8602 - val_loss: 0.3930\n",
      "Epoch 8/10\n",
      "\u001b[1m163/163\u001b[0m \u001b[32m━━━━━━━━━━━━━━━━━━━━\u001b[0m\u001b[37m\u001b[0m \u001b[1m0s\u001b[0m 305us/step - accuracy: 0.9062 - loss: 0.1775 - val_accuracy: 0.9375 - val_loss: 0.1935\n",
      "Epoch 9/10\n",
      "\u001b[1m163/163\u001b[0m \u001b[32m━━━━━━━━━━━━━━━━━━━━\u001b[0m\u001b[37m\u001b[0m \u001b[1m108s\u001b[0m 642ms/step - accuracy: 0.9198 - loss: 0.2272 - val_accuracy: 0.9079 - val_loss: 0.2227\n",
      "Epoch 10/10\n",
      "\u001b[1m163/163\u001b[0m \u001b[32m━━━━━━━━━━━━━━━━━━━━\u001b[0m\u001b[37m\u001b[0m \u001b[1m0s\u001b[0m 554us/step - accuracy: 0.9375 - loss: 0.2464 - val_accuracy: 0.7500 - val_loss: 0.5394\n",
      "\u001b[1m20/20\u001b[0m \u001b[32m━━━━━━━━━━━━━━━━━━━━\u001b[0m\u001b[37m\u001b[0m \u001b[1m7s\u001b[0m 331ms/step - accuracy: 0.9212 - loss: 0.2045\n",
      "Test accuracy: 0.90\n"
     ]
    }
   ],
   "source": [
    "\n",
    "# Train the pneumonia_detector_model\n",
    "pneumonia_detector_model.fit(\n",
    "    train_generator,\n",
    "    steps_per_epoch=train_generator.samples // train_generator.batch_size,\n",
    "    epochs=10,  # Number of epochs to train\n",
    "    validation_data=test_generator,\n",
    "    validation_steps=test_generator.samples // test_generator.batch_size\n",
    ")\n",
    "\n",
    "# Evaluate the pneumonia_detector_model on the test set\n",
    "test_loss, test_acc = pneumonia_detector_model.evaluate(test_generator)\n",
    "print(f'Test accuracy: {test_acc:.2f}')\n"
   ]
  },
  {
   "cell_type": "code",
   "execution_count": 9,
   "metadata": {},
   "outputs": [
    {
     "name": "stdout",
     "output_type": "stream",
     "text": [
      "\u001b[1m1/1\u001b[0m \u001b[32m━━━━━━━━━━━━━━━━━━━━\u001b[0m\u001b[37m\u001b[0m \u001b[1m0s\u001b[0m 112ms/step\n",
      "The X-ray shows signs of pneumonia.\n"
     ]
    }
   ],
   "source": [
    "import numpy as np\n",
    "from tensorflow.keras.preprocessing import image\n",
    "\n",
    "# Path to the image you want to test\n",
    "image_path = r'E:\\placement ki tayyari\\x ray\\archive\\images.jpeg'\n",
    "\n",
    "# Load the image and resize it to the same size used during training (150x150)\n",
    "img = image.load_img(image_path, target_size=(150, 150))\n",
    "\n",
    "# Convert the image to a numpy array\n",
    "img_array = image.img_to_array(img)\n",
    "\n",
    "# Rescale pixel values (same as during training)\n",
    "img_array = img_array / 255.0\n",
    "\n",
    "# Add an extra dimension to match the input shape of the pneumonia_detector_model (batch_size, height, width, channels)\n",
    "img_array = np.expand_dims(img_array, axis=0)\n",
    "\n",
    "# Make the prediction\n",
    "prediction = pneumonia_detector_model.predict(img_array)\n",
    "\n",
    "# Get the predicted class (0 for 'normal', 1 for 'pneumonia')\n",
    "if prediction[0][0] > 0.5:\n",
    "    print(\"The X-ray shows signs of pneumonia.\")\n",
    "else:\n",
    "    print(\"The X-ray appears to be normal.\")\n"
   ]
  },
  {
   "cell_type": "code",
   "execution_count": null,
   "metadata": {},
   "outputs": [],
   "source": []
  },
  {
   "cell_type": "code",
   "execution_count": null,
   "metadata": {},
   "outputs": [],
   "source": []
  }
 ],
 "metadata": {
  "kernelspec": {
   "display_name": "Python 3",
   "language": "python",
   "name": "python3"
  },
  "language_info": {
   "codemirror_mode": {
    "name": "ipython",
    "version": 3
   },
   "file_extension": ".py",
   "mimetype": "text/x-python",
   "name": "python",
   "nbconvert_exporter": "python",
   "pygments_lexer": "ipython3",
   "version": "3.11.5"
  }
 },
 "nbformat": 4,
 "nbformat_minor": 2
}
